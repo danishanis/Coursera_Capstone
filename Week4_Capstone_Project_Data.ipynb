{
  "nbformat": 4,
  "nbformat_minor": 0,
  "metadata": {
    "colab": {
      "name": "Week4_Capstone_Project_Data.ipynb",
      "provenance": [],
      "collapsed_sections": []
    },
    "kernelspec": {
      "name": "python3",
      "display_name": "Python 3"
    }
  },
  "cells": [
    {
      "cell_type": "markdown",
      "metadata": {
        "id": "cXDLHCjCfAPt",
        "colab_type": "text"
      },
      "source": [
        "## **Data**\n",
        "\n",
        "To find the best location for our Sushi bar, we will use the following sources of information:\n",
        "\n",
        "New York has a total of 5 boroughs and 306 neighborhoods. In order to segement the neighborhoods and explore them, we will essentially need a dataset that contains the 5 boroughs and the neighborhoods that exist in each borough as well as the the latitude and logitude coordinates of each neighborhood. Luckily, this dataset exists for free on the web in [NYU's catalog](https://geo.nyu.edu/catalog/nyu_2451_34572) (Please free free to experiment with your own dataset)\n",
        "\n",
        "The Sushi Category ID can be found in [Foursquare Venues Categories](https://developer.foursquare.com/docs/resources/categories)"
      ]
    }
  ]
}